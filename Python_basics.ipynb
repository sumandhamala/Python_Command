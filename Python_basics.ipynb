{
 "cells": [
  {
   "cell_type": "code",
   "execution_count": 7,
   "metadata": {
    "scrolled": true
   },
   "outputs": [
    {
     "name": "stdout",
     "output_type": "stream",
     "text": [
      "       length  listComprehension  append  preAllocate  while\n",
      "count     0.0                0.0     0.0          0.0    0.0\n",
      "mean      NaN                NaN     NaN          NaN    NaN\n",
      "std       NaN                NaN     NaN          NaN    NaN\n",
      "min       NaN                NaN     NaN          NaN    NaN\n",
      "25%       NaN                NaN     NaN          NaN    NaN\n",
      "50%       NaN                NaN     NaN          NaN    NaN\n",
      "75%       NaN                NaN     NaN          NaN    NaN\n",
      "max       NaN                NaN     NaN          NaN    NaN\n"
     ]
    }
   ],
   "source": [
    "import random\n",
    "from time import time\n",
    "import numpy as np\n",
    "import pandas as pd\n",
    "\n",
    "# Initilize Random\n",
    "random.seed(time())\n",
    "\n",
    "#### List Tests ####\n",
    "\n",
    "# How many test passes to run\n",
    "num_tests = 25\n",
    "\n",
    "# Create a dict for which to store tests\n",
    "data = {'length':[], 'listComprehension': [], 'append': [], 'preAllocate': [], 'while': []}\n",
    "\n",
    "for i in range(0, num_tests):\n",
    "    # Randomize list length\n",
    "    end = random.randint(100_000, 10_000_000)\n",
    "\n",
    "    startTime = time()\n",
    "    listComprehension = [i for i in range(0, end)]\n",
    "    endTime = time()\n",
    "    \n",
    "    # Add timed entry\n",
    "    data['listComprehension']=(endTime - startTime)\n",
    "\n",
    "# Get the median for all the rows\n",
    "df = pd.DataFrame(data)\n",
    "print(df.describe())"
   ]
  },
  {
   "cell_type": "code",
   "execution_count": 12,
   "metadata": {},
   "outputs": [
    {
     "name": "stdout",
     "output_type": "stream",
     "text": [
      "20\n"
     ]
    }
   ],
   "source": [
    "end = random.randint(10, 20)\n",
    "print(end)\n"
   ]
  },
  {
   "cell_type": "code",
   "execution_count": 17,
   "metadata": {},
   "outputs": [
    {
     "name": "stdout",
     "output_type": "stream",
     "text": [
      "{'listComprehension': [2.0]}\n"
     ]
    }
   ],
   "source": [
    "data = {'listComprehension':[]}\n",
    "data['listComprehension'].append(2.0)\n",
    "print(data)  "
   ]
  },
  {
   "cell_type": "code",
   "execution_count": 28,
   "metadata": {},
   "outputs": [
    {
     "name": "stdout",
     "output_type": "stream",
     "text": [
      "9\n"
     ]
    }
   ],
   "source": [
    "Array=np.zeros(10)\n",
    "for i in range(10):\n",
    "    Array[i] = i\n",
    "print(Array)"
   ]
  },
  {
   "cell_type": "code",
   "execution_count": 1,
   "metadata": {},
   "outputs": [
    {
     "name": "stdout",
     "output_type": "stream",
     "text": [
      "3\n",
      "5\n",
      "7\n",
      "9\n",
      "11\n",
      "13\n",
      "15\n",
      "17\n",
      "19\n"
     ]
    }
   ],
   "source": [
    "x = range(3, 20, 2)\n",
    "for n in x:\n",
    "  print(n)"
   ]
  },
  {
   "cell_type": "code",
   "execution_count": null,
   "metadata": {},
   "outputs": [],
   "source": []
  }
 ],
 "metadata": {
  "kernelspec": {
   "display_name": "Python 3",
   "language": "python",
   "name": "python3"
  },
  "language_info": {
   "codemirror_mode": {
    "name": "ipython",
    "version": 3
   },
   "file_extension": ".py",
   "mimetype": "text/x-python",
   "name": "python",
   "nbconvert_exporter": "python",
   "pygments_lexer": "ipython3",
   "version": "3.6.5"
  }
 },
 "nbformat": 4,
 "nbformat_minor": 4
}

